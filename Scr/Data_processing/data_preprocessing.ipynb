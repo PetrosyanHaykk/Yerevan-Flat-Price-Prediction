{
 "cells": [
  {
   "cell_type": "code",
   "execution_count": 1,
   "id": "44b4703a-88bb-4486-bd22-2e76a7f0dfb5",
   "metadata": {},
   "outputs": [],
   "source": [
    "# Import necessary libraries\n",
    "import os\n",
    "import pandas as pd\n",
    "import numpy as np"
   ]
  },
  {
   "cell_type": "code",
   "execution_count": 2,
   "id": "e59c17f8-d134-46c3-aa1d-33a559639db3",
   "metadata": {},
   "outputs": [
    {
     "name": "stdout",
     "output_type": "stream",
     "text": [
      "PROJECT ROOT: c:\\Users\\Dell\\OneDrive\\Desktop\\Yerevan-Flat-Price-Prediction\n",
      "Data loaded from: c:\\Users\\Dell\\OneDrive\\Desktop\\Yerevan-Flat-Price-Prediction\\Data\\raw\\flats.csv\n"
     ]
    }
   ],
   "source": [
    "# Get the current working directory\n",
    "current_path = os.getcwd()\n",
    "\n",
    "# Move two levels up to reach the project root (e.g., from Scr/GUI to project folder)\n",
    "project_root = os.path.abspath(os.path.join(current_path, \"..\", \"..\"))\n",
    "print(\"PROJECT ROOT:\", project_root)\n",
    "\n",
    "# Build the path to the raw data CSV file\n",
    "csv_path = os.path.join(project_root, \"Data\", \"raw\", \"flats.csv\")\n",
    "\n",
    "# Load the dataset into a DataFrame\n",
    "df = pd.read_csv(csv_path)\n",
    "print(f\"Data loaded from: {csv_path}\")"
   ]
  },
  {
   "cell_type": "code",
   "execution_count": 3,
   "id": "4b625646-19aa-48f4-bfd0-8942e9be9a53",
   "metadata": {},
   "outputs": [],
   "source": [
    "\n",
    "# Rename columns from Armenian to English\n",
    "new_columns = {\n",
    "    \"Շինության տիպ\": \"Building Type\",\n",
    "    \"Նորակառույց\": \"New Building\",\n",
    "    \"Վերելակ\": \"Elevator\",\n",
    "    \"Հարկերի քանակ\": \"Number of Floors\",\n",
    "    \"Ընդհանուր մակերես\": \"Total Area\",\n",
    "    \"Սենյակների քանակ\": \"Number of Rooms\",\n",
    "    \"Սանհանգույցների քանակ\": \"Number of Bathrooms\",\n",
    "    \"Առաստաղի բարձրություն\": \"Ceiling Height\",\n",
    "    \"Հարկ\": \"Floor\",\n",
    "    \"Պատշգամբ\": \"Balcony\",\n",
    "    \"Կահույք\": \"Furniture\",\n",
    "    \"Վերանորոգում\": \"Renovation\",\n",
    "    \"Գին\": \"Price\",\n",
    "    \"Փողոց\": \"Street\",\n",
    "    \"Region\": \"District\"\n",
    "}\n",
    "df.rename(columns=new_columns, inplace=True)\n",
    "\n",
    "#Define translation dictionaries for categorical values\n",
    "translation_dicts = {\n",
    "    \"Building Type\": {\n",
    "        'Քարե': 'Stone',\n",
    "        'Մոնոլիտ': 'Monolith',\n",
    "        'Պանելային': 'Panel',\n",
    "        'Փայտե': 'Wooden',\n",
    "        'Կասետային': 'Cassette',\n",
    "        'Աղյուսե': 'Brick'\n",
    "    },\n",
    "    \"New Building\": {\n",
    "        'Ոչ': 'No',\n",
    "        'Այո': 'Yes'\n",
    "    },\n",
    "    \"Elevator\": {\n",
    "        'Առկա է': 'Available',\n",
    "        'Առկա չէ': 'Not Available'\n",
    "    },\n",
    "    \"Balcony\": {\n",
    "        'Առկա չէ': 'Not Available',\n",
    "        'Փակ պատշգամբ': 'Closed Balcony',\n",
    "        'Բաց պատշգամբ': 'Open Balcony',\n",
    "        'Մի քանի պատշգամբ': 'Multiple Balconies'\n",
    "    },\n",
    "    \"Furniture\": {\n",
    "        'Մասնակի կահույք': 'Partially Furnished',\n",
    "        'Համաձայնությամբ': 'Negotiable',\n",
    "        'Առկա է': 'Available',\n",
    "        'Առկա չէ': 'Not Available'\n",
    "    },\n",
    "    \"Renovation\": {\n",
    "        'Հին վերանորոգում': 'Old Renovation',\n",
    "        'Կապիտալ վերանորոգված': 'Capital Renovated',\n",
    "        'Դիզայներական ոճով վերանորոգված': 'Designer Renovated',\n",
    "        'Մասնակի վերանորոգում': 'Partially Renovated',\n",
    "        'Չվերանորոգված': 'Not Renovated',\n",
    "        'Եվրովերանորոգված': 'Euro Renovation',\n",
    "        'Կոսմետիկ վերանորոգում': 'Cosmetic Renovation'\n",
    "    }\n",
    "}\n",
    "\n",
    "#Apply translations to categorical columns\n",
    "for column, translation_map in translation_dicts.items():\n",
    "    if column in df.columns:\n",
    "        df[column] = df[column].replace(translation_map)"
   ]
  },
  {
   "cell_type": "code",
   "execution_count": 4,
   "id": "3f35687a-6ea9-44aa-bd0e-09505d63da87",
   "metadata": {
    "scrolled": true
   },
   "outputs": [
    {
     "name": "stdout",
     "output_type": "stream",
     "text": [
      "<class 'pandas.core.frame.DataFrame'>\n",
      "RangeIndex: 33719 entries, 0 to 33718\n",
      "Data columns (total 15 columns):\n",
      " #   Column               Non-Null Count  Dtype  \n",
      "---  ------               --------------  -----  \n",
      " 0   Building Type        33719 non-null  object \n",
      " 1   New Building         33719 non-null  object \n",
      " 2   Elevator             33719 non-null  object \n",
      " 3   Number of Floors     33719 non-null  object \n",
      " 4   Total Area           33719 non-null  object \n",
      " 5   Number of Rooms      33719 non-null  object \n",
      " 6   Number of Bathrooms  33719 non-null  object \n",
      " 7   Ceiling Height       33719 non-null  object \n",
      " 8   Floor                33719 non-null  float64\n",
      " 9   Balcony              33719 non-null  object \n",
      " 10  Furniture            33719 non-null  object \n",
      " 11  Renovation           33719 non-null  object \n",
      " 12  Price                33719 non-null  object \n",
      " 13  Street               33719 non-null  object \n",
      " 14  District             32536 non-null  object \n",
      "dtypes: float64(1), object(14)\n",
      "memory usage: 3.9+ MB\n"
     ]
    }
   ],
   "source": [
    "df.info()"
   ]
  },
  {
   "cell_type": "code",
   "execution_count": 5,
   "id": "06cca3d7-ddb6-4a88-82b7-ae5bb6b1c089",
   "metadata": {
    "scrolled": true
   },
   "outputs": [
    {
     "name": "stdout",
     "output_type": "stream",
     "text": [
      "Building Type\n",
      "Monolith    13097\n",
      "Panel       10285\n",
      "Stone       10252\n",
      "Cassette       69\n",
      "Brick          12\n",
      "Wooden          4\n",
      "Name: count, dtype: int64\n",
      "----------------------\n",
      "New Building\n",
      "No     20946\n",
      "Yes    12773\n",
      "Name: count, dtype: int64\n",
      "----------------------\n",
      "Elevator\n",
      "Available        23443\n",
      "Not Available    10276\n",
      "Name: count, dtype: int64\n",
      "----------------------\n",
      "Number of Floors\n",
      "5.0     5190\n",
      "9.0     5096\n",
      "5       2068\n",
      "14.0    2044\n",
      "4.0     1952\n",
      "16.0    1808\n",
      "9       1310\n",
      "12.0     977\n",
      "10.0     960\n",
      "14       936\n",
      "16       907\n",
      "4        901\n",
      "15.0     748\n",
      "18.0     702\n",
      "8.0      645\n",
      "6.0      643\n",
      "6        500\n",
      "10       495\n",
      "15       494\n",
      "7.0      467\n",
      "13.0     452\n",
      "11.0     451\n",
      "12       436\n",
      "18       409\n",
      "8        393\n",
      "3.0      322\n",
      "17.0     319\n",
      "11       317\n",
      "17       297\n",
      "13       254\n",
      "7        251\n",
      "3        179\n",
      "19.0     134\n",
      "20.0      96\n",
      "19        92\n",
      "20        83\n",
      "2.0       80\n",
      "22.0      65\n",
      "21.0      49\n",
      "22        47\n",
      "2         32\n",
      "23.0      30\n",
      "21        25\n",
      "1.0       20\n",
      "23        17\n",
      "25         7\n",
      "25.0       6\n",
      "24.0       5\n",
      "32+        4\n",
      "1          3\n",
      "24         1\n",
      "Name: count, dtype: int64\n",
      "----------------------\n",
      "Total Area\n",
      "80 քմ     1122\n",
      "75 քմ      832\n",
      "90 քմ      791\n",
      "100 քմ     727\n",
      "70 քմ      685\n",
      "          ... \n",
      "303 քմ       1\n",
      "259 քմ       1\n",
      "236 քմ       1\n",
      "284 քմ       1\n",
      "375 քմ       1\n",
      "Name: count, Length: 437, dtype: int64\n",
      "----------------------\n",
      "Number of Rooms\n",
      "3      8800\n",
      "3.0    6308\n",
      "2.0    5107\n",
      "2      5017\n",
      "4      3357\n",
      "4.0    2038\n",
      "1.0    1313\n",
      "1       920\n",
      "5       439\n",
      "5.0     205\n",
      "6       115\n",
      "6.0      51\n",
      "7        27\n",
      "7.0      12\n",
      "8+       10\n",
      "Name: count, dtype: int64\n",
      "----------------------\n",
      "Number of Bathrooms\n",
      "1     23809\n",
      "2      8955\n",
      "3+      955\n",
      "Name: count, dtype: int64\n",
      "----------------------\n",
      "Ceiling Height\n",
      "3 մ       12875\n",
      "2,75 մ     7351\n",
      "2,8 մ      6735\n",
      "3,2 մ      2807\n",
      "2,7 մ      2460\n",
      "3,5 մ       679\n",
      "2,6 մ       656\n",
      "2,5 մ       156\n",
      "Name: count, dtype: int64\n",
      "----------------------\n",
      "Floor\n",
      "4.0     4772\n",
      "3.0     4493\n",
      "2.0     4308\n",
      "5.0     3975\n",
      "1.0     2624\n",
      "6.0     2183\n",
      "9.0     2071\n",
      "8.0     2031\n",
      "7.0     1906\n",
      "10.0    1183\n",
      "11.0    1021\n",
      "12.0     913\n",
      "13.0     665\n",
      "14.0     576\n",
      "16.0     377\n",
      "15.0     331\n",
      "17.0     148\n",
      "18.0      93\n",
      "20.0      20\n",
      "22.0      11\n",
      "21.0      10\n",
      "19.0       6\n",
      "23.0       1\n",
      "24.0       1\n",
      "Name: count, dtype: int64\n",
      "----------------------\n",
      "Balcony\n",
      "Open Balcony          14586\n",
      "Closed Balcony         7345\n",
      "Not Available          6440\n",
      "Multiple Balconies     5348\n",
      "Name: count, dtype: int64\n",
      "----------------------\n",
      "Furniture\n",
      "Available              16238\n",
      "Not Available           8019\n",
      "Partially Furnished     5397\n",
      "Negotiable              4065\n",
      "Name: count, dtype: int64\n",
      "----------------------\n",
      "Renovation\n",
      "Capital Renovated      11488\n",
      "Euro Renovation         4994\n",
      "Designer Renovated      4437\n",
      "Not Renovated           3824\n",
      "Old Renovation          3633\n",
      "Cosmetic Renovation     3021\n",
      "Partially Renovated     2322\n",
      "Name: count, dtype: int64\n",
      "----------------------\n",
      "Price\n",
      "$110,000        572\n",
      "$95,000         552\n",
      "$85,000         532\n",
      "$120,000        514\n",
      "$90,000         494\n",
      "               ... \n",
      "$339,000          1\n",
      "$605,000          1\n",
      "$456,000          1\n",
      "$260,100          1\n",
      "81,920,000 ֏      1\n",
      "Name: count, Length: 1369, dtype: int64\n",
      "----------------------\n",
      "Street\n",
      "Կոմիտասի պողոտա, Երևան            1032\n",
      "Զորավար Անդրանիկի փողոց, Երևան     862\n",
      "Առնո Բաբաջանյան փողոց, Երևան       489\n",
      "Մամիկոնյանց փողոց, Երևան           425\n",
      "Վերին Անտառային փողոց, Երևան       412\n",
      "                                  ... \n",
      "Verin Antarayin Street               1\n",
      "Սունդուկյան փողոց 21, Երևան          1\n",
      "Գևորգ Էմինի փողոց 7, Երևան           1\n",
      "Սարյանի փողոց                        1\n",
      "Անտառային փողոց 128, Երևան           1\n",
      "Name: count, Length: 3218, dtype: int64\n",
      "----------------------\n",
      "District\n",
      "Kentron                  10082\n",
      "Arabkir                   6896\n",
      "Malatia-Sebastia          3019\n",
      "Ajapnyak                  2692\n",
      "Qanaqer-Zeytun            2526\n",
      "Nor Norq                  1884\n",
      "Shengavit                 1735\n",
      "Davtashen                 1507\n",
      "Erebuni                    979\n",
      "Avan                       963\n",
      "Norq Marash                178\n",
      "Nubarashen                  26\n",
      "Hin                         21\n",
      "Mush District                7\n",
      "Modern Art Museum of         5\n",
      "\"Victoria Inn                5\n",
      "\"                            4\n",
      "Admiral Isakov Avenue        3\n",
      "Inga Hotel                   2\n",
      "New                          1\n",
      "Bagrevand                    1\n",
      "Name: count, dtype: int64\n",
      "----------------------\n"
     ]
    }
   ],
   "source": [
    "for col in df.columns:\n",
    "    print(df[col].value_counts())\n",
    "    print(\"----------------------\")"
   ]
  },
  {
   "cell_type": "code",
   "execution_count": 6,
   "id": "e2b3b5d5-9c35-4a41-9f8a-f1fc949aa0b6",
   "metadata": {},
   "outputs": [],
   "source": [
    "# Remove the 'Street' column (not needed for prediction)\n",
    "df = df.drop(\"Street\", axis=1)\n",
    "\n",
    "# Keep only rows where Building Type is one of the allowed types\n",
    "allowed_types = [\"Panel\", \"Monolith\", \"Stone\"]\n",
    "df = df[df[\"Building Type\"].isin(allowed_types)]\n",
    "\n",
    "# Replace 'Negotiable' furniture with 'Available'\n",
    "df[\"Furniture\"] = df[\"Furniture\"].replace(\"Negotiable\", \"Available\")\n",
    "\n",
    "# Keep only rows where District is in the defined valid list\n",
    "valid_districts = [\n",
    "    \"Kentron\", \"Arabkir\", \"Malatia-Sebastia\", \"Ajapnyak\", \"Qanaqer-Zeytun\",\n",
    "    \"Nor Norq\", \"Shengavit\", \"Davtashen\", \"Erebuni\", \"Avan\"\n",
    "]\n",
    "df = df[df[\"District\"].isin(valid_districts)]"
   ]
  },
  {
   "cell_type": "code",
   "execution_count": 7,
   "id": "42c81932-b534-4f14-b656-ea3983c45ebb",
   "metadata": {},
   "outputs": [],
   "source": [
    "# Convert 'Number of Floors' to integer, invalid values become NaN\n",
    "df[\"Number of Floors\"] = pd.to_numeric(df[\"Number of Floors\"], errors=\"coerce\").astype(int)\n",
    "\n",
    "# Extract numeric values from 'Total Area' (remove text like 'm²') and convert to float\n",
    "df[\"Total Area\"] = df[\"Total Area\"].astype(str).str.extract(r\"(\\d+\\.?\\d*)\").astype(float)\n",
    "\n",
    "# Convert 'Number of Rooms' to float, invalid values become NaN\n",
    "df[\"Number of Rooms\"] = pd.to_numeric(df[\"Number of Rooms\"], errors=\"coerce\").astype(float)\n",
    "\n",
    "# Remove '+' from 'Number of Bathrooms' and convert to float\n",
    "df[\"Number of Bathrooms\"] = df[\"Number of Bathrooms\"].astype(str).str.rstrip(\"+\").astype(float)\n",
    "\n",
    "# Replace commas with dots in 'Ceiling Height', extract numeric part, and convert to float\n",
    "df[\"Ceiling Height\"] = (\n",
    "    df[\"Ceiling Height\"]\n",
    "    .astype(str)\n",
    "    .str.replace(\",\", \".\", regex=False)\n",
    "    .str.extract(r\"(\\d+\\.?\\d*)\")\n",
    "    .astype(float)\n",
    ")"
   ]
  },
  {
   "cell_type": "code",
   "execution_count": 8,
   "id": "0269201f-f611-4c22-b9de-20f4478384e2",
   "metadata": {
    "scrolled": true
   },
   "outputs": [
    {
     "name": "stdout",
     "output_type": "stream",
     "text": [
      "Building Type\n",
      "Monolith    12323\n",
      "Panel        9993\n",
      "Stone        9887\n",
      "Name: count, dtype: int64\n",
      "----------------------\n",
      "New Building\n",
      "No     20215\n",
      "Yes    11988\n",
      "Name: count, dtype: int64\n",
      "----------------------\n",
      "Elevator\n",
      "Available        22373\n",
      "Not Available     9830\n",
      "Name: count, dtype: int64\n",
      "----------------------\n",
      "Number of Floors\n",
      "5     6925\n",
      "9     6219\n",
      "14    2832\n",
      "4     2696\n",
      "16    2634\n",
      "10    1405\n",
      "12    1367\n",
      "15    1189\n",
      "6     1070\n",
      "18    1070\n",
      "8     1019\n",
      "7      691\n",
      "11     690\n",
      "13     678\n",
      "17     496\n",
      "3      473\n",
      "19     210\n",
      "20     173\n",
      "22     109\n",
      "2      102\n",
      "21      69\n",
      "23      47\n",
      "1       21\n",
      "25      12\n",
      "24       6\n",
      "Name: count, dtype: int64\n",
      "----------------------\n",
      "Total Area\n",
      "80.0     1182\n",
      "75.0      880\n",
      "90.0      830\n",
      "100.0     738\n",
      "70.0      732\n",
      "         ... \n",
      "313.0       1\n",
      "13.0        1\n",
      "232.0       1\n",
      "284.0       1\n",
      "375.0       1\n",
      "Name: count, Length: 274, dtype: int64\n",
      "----------------------\n",
      "Number of Rooms\n",
      "3.0    14421\n",
      "2.0     9723\n",
      "4.0     5110\n",
      "1.0     2144\n",
      "5.0      608\n",
      "6.0      153\n",
      "7.0       34\n",
      "Name: count, dtype: int64\n",
      "----------------------\n",
      "Number of Bathrooms\n",
      "1.0    22865\n",
      "2.0     8428\n",
      "3.0      910\n",
      "Name: count, dtype: int64\n",
      "----------------------\n",
      "Ceiling Height\n",
      "3.00    12185\n",
      "2.75     7109\n",
      "2.80     6509\n",
      "3.20     2663\n",
      "2.70     2356\n",
      "3.50      620\n",
      "2.60      618\n",
      "2.50      143\n",
      "Name: count, dtype: int64\n",
      "----------------------\n",
      "Floor\n",
      "4.0     4570\n",
      "3.0     4290\n",
      "2.0     4115\n",
      "5.0     3819\n",
      "1.0     2445\n",
      "6.0     2121\n",
      "9.0     2006\n",
      "8.0     1952\n",
      "7.0     1834\n",
      "10.0    1126\n",
      "11.0     982\n",
      "12.0     870\n",
      "13.0     608\n",
      "14.0     543\n",
      "16.0     341\n",
      "15.0     313\n",
      "17.0     133\n",
      "18.0      90\n",
      "20.0      17\n",
      "22.0      11\n",
      "21.0      10\n",
      "19.0       6\n",
      "23.0       1\n",
      "Name: count, dtype: int64\n",
      "----------------------\n",
      "Balcony\n",
      "Open Balcony          13946\n",
      "Closed Balcony         7064\n",
      "Not Available          6185\n",
      "Multiple Balconies     5008\n",
      "Name: count, dtype: int64\n",
      "----------------------\n",
      "Furniture\n",
      "Available              19473\n",
      "Not Available           7531\n",
      "Partially Furnished     5199\n",
      "Name: count, dtype: int64\n",
      "----------------------\n",
      "Renovation\n",
      "Capital Renovated      11008\n",
      "Euro Renovation         4759\n",
      "Designer Renovated      4203\n",
      "Not Renovated           3616\n",
      "Old Renovation          3495\n",
      "Cosmetic Renovation     2901\n",
      "Partially Renovated     2221\n",
      "Name: count, dtype: int64\n",
      "----------------------\n",
      "Price\n",
      "$110,000    553\n",
      "$95,000     542\n",
      "$85,000     508\n",
      "$120,000    485\n",
      "$90,000     480\n",
      "           ... \n",
      "$423,000      1\n",
      "$278,000      1\n",
      "$331,500      1\n",
      "$685,000      1\n",
      "$254,000      1\n",
      "Name: count, Length: 1321, dtype: int64\n",
      "----------------------\n",
      "District\n",
      "Kentron             10074\n",
      "Arabkir              6893\n",
      "Malatia-Sebastia     3014\n",
      "Ajapnyak             2691\n",
      "Qanaqer-Zeytun       2506\n",
      "Nor Norq             1851\n",
      "Shengavit            1727\n",
      "Davtashen            1506\n",
      "Erebuni               979\n",
      "Avan                  962\n",
      "Name: count, dtype: int64\n",
      "----------------------\n"
     ]
    }
   ],
   "source": [
    "for col in df.columns:\n",
    "    print(df[col].value_counts())\n",
    "    print(\"----------------------\")"
   ]
  },
  {
   "cell_type": "code",
   "execution_count": 9,
   "id": "20f89cee-1845-42d8-9675-fc97e08b32d5",
   "metadata": {},
   "outputs": [
    {
     "name": "stdout",
     "output_type": "stream",
     "text": [
      "USD prices ($): 31409\n",
      "AMD prices (֏): 794\n"
     ]
    }
   ],
   "source": [
    "# Count how many price entries are in USD and AMD\n",
    "usd_count = df[\"Price\"].astype(str).str.contains(r\"\\$\").sum()\n",
    "amd_count = df[\"Price\"].astype(str).str.contains(\"֏\").sum()\n",
    "\n",
    "# Print the counts of USD and AMD prices\n",
    "print(\"USD prices ($):\", usd_count)\n",
    "print(\"AMD prices (֏):\", amd_count)"
   ]
  },
  {
   "cell_type": "code",
   "execution_count": 10,
   "id": "461dbafa-b359-41c7-b2ea-250f27122237",
   "metadata": {},
   "outputs": [],
   "source": [
    "# Convert 'Price' column to string for processing\n",
    "price_str = df[\"Price\"].astype(str)\n",
    "\n",
    "# Convert AMD prices to USD\n",
    "amd_mask = price_str.str.contains(\"֏\")  # Identify rows with AMD currency\n",
    "df.loc[amd_mask, \"Price\"] = (\n",
    "    price_str[amd_mask]\n",
    "    .str.replace(r\"[^\\d.]\", \"\", regex=True)  # Remove non-numeric characters\n",
    "    .astype(float) / 385                    # Convert AMD to USD (fixed rate: 1 USD = 385 AMD)\n",
    ").round(2)\n",
    "\n",
    "# Clean USD prices\n",
    "usd_mask = price_str.str.contains(r\"\\$\")  # Identify rows with USD currency\n",
    "df.loc[usd_mask, \"Price\"] = (\n",
    "    price_str[usd_mask]\n",
    "    .str.replace(r\"[^\\d.]\", \"\", regex=True)  # Remove '$' and other non-numeric symbols\n",
    "    .astype(float)\n",
    ")\n",
    "\n",
    "# Ensure 'Price' column is float\n",
    "df[\"Price\"] = df[\"Price\"].astype(float)"
   ]
  },
  {
   "cell_type": "code",
   "execution_count": 11,
   "id": "80852cb5-e7b0-4b95-b175-3c30a1620332",
   "metadata": {
    "scrolled": true
   },
   "outputs": [
    {
     "name": "stdout",
     "output_type": "stream",
     "text": [
      "<class 'pandas.core.frame.DataFrame'>\n",
      "Index: 32203 entries, 0 to 33718\n",
      "Data columns (total 14 columns):\n",
      " #   Column               Non-Null Count  Dtype  \n",
      "---  ------               --------------  -----  \n",
      " 0   Building Type        32203 non-null  object \n",
      " 1   New Building         32203 non-null  object \n",
      " 2   Elevator             32203 non-null  object \n",
      " 3   Number of Floors     32203 non-null  int64  \n",
      " 4   Total Area           32203 non-null  float64\n",
      " 5   Number of Rooms      32193 non-null  float64\n",
      " 6   Number of Bathrooms  32203 non-null  float64\n",
      " 7   Ceiling Height       32203 non-null  float64\n",
      " 8   Floor                32203 non-null  float64\n",
      " 9   Balcony              32203 non-null  object \n",
      " 10  Furniture            32203 non-null  object \n",
      " 11  Renovation           32203 non-null  object \n",
      " 12  Price                32203 non-null  float64\n",
      " 13  District             32203 non-null  object \n",
      "dtypes: float64(6), int64(1), object(7)\n",
      "memory usage: 3.7+ MB\n"
     ]
    }
   ],
   "source": [
    "df.info()"
   ]
  },
  {
   "cell_type": "code",
   "execution_count": 12,
   "id": "ba9dd6c8-ff2b-4619-ad0b-260197151ed0",
   "metadata": {
    "scrolled": true
   },
   "outputs": [
    {
     "data": {
      "text/plain": [
       "Building Type           0\n",
       "New Building            0\n",
       "Elevator                0\n",
       "Number of Floors        0\n",
       "Total Area              0\n",
       "Number of Rooms        10\n",
       "Number of Bathrooms     0\n",
       "Ceiling Height          0\n",
       "Floor                   0\n",
       "Balcony                 0\n",
       "Furniture               0\n",
       "Renovation              0\n",
       "Price                   0\n",
       "District                0\n",
       "dtype: int64"
      ]
     },
     "execution_count": 12,
     "metadata": {},
     "output_type": "execute_result"
    }
   ],
   "source": [
    "df.isna().sum()"
   ]
  },
  {
   "cell_type": "code",
   "execution_count": 13,
   "id": "3bba6505-9c7d-4261-b7dc-7d3f7772c146",
   "metadata": {},
   "outputs": [
    {
     "data": {
      "text/plain": [
       "np.int64(12814)"
      ]
     },
     "execution_count": 13,
     "metadata": {},
     "output_type": "execute_result"
    }
   ],
   "source": [
    "df.duplicated().sum()"
   ]
  },
  {
   "cell_type": "code",
   "execution_count": 14,
   "id": "f8747ae6-cbec-410b-a0e7-d4996ce5a10a",
   "metadata": {},
   "outputs": [],
   "source": [
    "df = df.dropna(ignore_index=True)\n",
    "df = df.drop_duplicates(ignore_index=True)"
   ]
  },
  {
   "cell_type": "code",
   "execution_count": 15,
   "id": "6d234ba9-dba6-4753-9014-60affeb66f7e",
   "metadata": {},
   "outputs": [
    {
     "name": "stdout",
     "output_type": "stream",
     "text": [
      "{42: 30000, 106: 40000, 236: 50000, 631: 60000, 1459: 70000, 2730: 80000, 4419: 90000, 5892: 100000}\n",
      "{5902: 200000, 3898: 250000, 2559: 300000, 1874: 350000, 1340: 400000, 1066: 450000, 819: 500000, 655: 550000, 508: 600000, 393: 650000, 286: 700000, 215: 750000, 161: 800000, 147: 850000, 112: 900000, 95: 950000, 85: 1000000, 73: 1050000, 65: 1100000, 52: 1150000, 42: 1200000, 29: 1250000, 21: 1300000, 18: 1400000, 14: 1450000, 13: 1500000, 10: 1550000, 9: 1650000, 6: 1800000, 3: 1900000, 1: 2000000}\n"
     ]
    }
   ],
   "source": [
    "# Count listings priced under 100k (USD)\n",
    "price_under_100k = {}\n",
    "for pr in range(30000, 100001, 10000):  # Ranges: 30k, 40k, ... 100k\n",
    "    price_under_100k[len(df[df[\"Price\"] <= pr])] = pr\n",
    "\n",
    "print(price_under_100k)\n",
    "\n",
    "# Count listings priced above 200k (USD)\n",
    "price_after_200k = {}\n",
    "for pr in range(200000, 2000001, 50000):  # Ranges: 200k, 250k, ... 2M\n",
    "    price_after_200k[len(df[df[\"Price\"] >= pr])] = pr\n",
    "\n",
    "print(price_after_200k)"
   ]
  },
  {
   "cell_type": "code",
   "execution_count": 16,
   "id": "45284311-1462-4355-baa7-a35e0a9da218",
   "metadata": {},
   "outputs": [],
   "source": [
    "# Keep only apartments priced between 60,000 and 280,000 USD\n",
    "df = df[(df[\"Price\"] >= 60000) & (df[\"Price\"] <= 280000)]"
   ]
  },
  {
   "cell_type": "code",
   "execution_count": 17,
   "id": "f2cde134-bee8-41dd-9f14-c3bcadb716bd",
   "metadata": {},
   "outputs": [
    {
     "name": "stdout",
     "output_type": "stream",
     "text": [
      "<class 'pandas.core.frame.DataFrame'>\n",
      "Index: 16013 entries, 0 to 19377\n",
      "Data columns (total 14 columns):\n",
      " #   Column               Non-Null Count  Dtype  \n",
      "---  ------               --------------  -----  \n",
      " 0   Building Type        16013 non-null  object \n",
      " 1   New Building         16013 non-null  object \n",
      " 2   Elevator             16013 non-null  object \n",
      " 3   Number of Floors     16013 non-null  int64  \n",
      " 4   Total Area           16013 non-null  float64\n",
      " 5   Number of Rooms      16013 non-null  float64\n",
      " 6   Number of Bathrooms  16013 non-null  float64\n",
      " 7   Ceiling Height       16013 non-null  float64\n",
      " 8   Floor                16013 non-null  float64\n",
      " 9   Balcony              16013 non-null  object \n",
      " 10  Furniture            16013 non-null  object \n",
      " 11  Renovation           16013 non-null  object \n",
      " 12  Price                16013 non-null  float64\n",
      " 13  District             16013 non-null  object \n",
      "dtypes: float64(6), int64(1), object(7)\n",
      "memory usage: 1.8+ MB\n"
     ]
    }
   ],
   "source": [
    "df.info()"
   ]
  },
  {
   "cell_type": "code",
   "execution_count": 18,
   "id": "7e3203be-c05f-44d4-b709-10bb6a3ebe11",
   "metadata": {},
   "outputs": [
    {
     "name": "stdout",
     "output_type": "stream",
     "text": [
      "{1: 20, 9: 25, 76: 30, 203: 35, 665: 40, 1464: 45, 2323: 50}\n",
      "{2189: 100, 1217: 110, 727: 120, 365: 130, 199: 140, 132: 150, 82: 160, 50: 170, 42: 180, 32: 190, 25: 200, 17: 210, 10: 220, 7: 230, 6: 250, 4: 260, 3: 300}\n"
     ]
    }
   ],
   "source": [
    "# Count apartments with total area <= specific values (10, 15, ..., 50 m²)\n",
    "area_befor50 = {}\n",
    "for ar in range(10, 51, 5):  # Step of 5 m²\n",
    "    area_befor50[len(df[df[\"Total Area\"] <= ar])] = ar\n",
    "\n",
    "print(area_befor50)\n",
    "\n",
    "# Count apartments with total area >= specific values (100, 110, ..., 300 m²)\n",
    "area_after100 = {}\n",
    "for ar in range(100, 301, 10):  # Step of 10 m²\n",
    "    area_after100[len(df[df[\"Total Area\"] >= ar])] = ar\n",
    "\n",
    "print(area_after100)"
   ]
  },
  {
   "cell_type": "code",
   "execution_count": 19,
   "id": "e3d3b83c-9df5-4276-b087-3a2c1419464a",
   "metadata": {},
   "outputs": [],
   "source": [
    "# Keep only apartments with total area between 30 and 130 m²\n",
    "df = df[(df[\"Total Area\"] >= 30) & (df[\"Total Area\"] <= 130)]"
   ]
  },
  {
   "cell_type": "code",
   "execution_count": 20,
   "id": "2a4d9db4-4eec-4485-87e9-2b090967c8a0",
   "metadata": {},
   "outputs": [
    {
     "name": "stdout",
     "output_type": "stream",
     "text": [
      "97\n",
      "1898\n"
     ]
    }
   ],
   "source": [
    "print(len(df[df[\"Number of Rooms\"]>=5]))\n",
    "print(len(df[df[\"Number of Rooms\"]==4]))"
   ]
  },
  {
   "cell_type": "code",
   "execution_count": 21,
   "id": "7d1d7066-9dc1-4867-9561-649f2389ea59",
   "metadata": {},
   "outputs": [],
   "source": [
    "df = df[df[\"Number of Rooms\"] <=4]"
   ]
  },
  {
   "cell_type": "code",
   "execution_count": 22,
   "id": "69f3eded",
   "metadata": {},
   "outputs": [
    {
     "data": {
      "text/plain": [
       "(239, 14)"
      ]
     },
     "execution_count": 22,
     "metadata": {},
     "output_type": "execute_result"
    }
   ],
   "source": [
    "df[df[\"Floor\"]>15].shape"
   ]
  },
  {
   "cell_type": "code",
   "execution_count": 23,
   "id": "0cf73daf-2ca2-474f-a408-d8258eb6a02a",
   "metadata": {},
   "outputs": [],
   "source": [
    "df = df[df[\"Floor\"]<=15]"
   ]
  },
  {
   "cell_type": "code",
   "execution_count": 24,
   "id": "1483fa68",
   "metadata": {},
   "outputs": [
    {
     "data": {
      "text/plain": [
       "(0, 14)"
      ]
     },
     "execution_count": 24,
     "metadata": {},
     "output_type": "execute_result"
    }
   ],
   "source": [
    "df[df[\"Number of Bathrooms\"]>=4].shape"
   ]
  },
  {
   "cell_type": "code",
   "execution_count": 25,
   "id": "1357117d-e9d0-4729-95fd-0892cb6b77a7",
   "metadata": {},
   "outputs": [
    {
     "data": {
      "text/plain": [
       "(53, 14)"
      ]
     },
     "execution_count": 25,
     "metadata": {},
     "output_type": "execute_result"
    }
   ],
   "source": [
    "df[df[\"Number of Bathrooms\"]==3].shape"
   ]
  },
  {
   "cell_type": "code",
   "execution_count": 26,
   "id": "946eabca-2f96-464e-845d-00c5f164040f",
   "metadata": {},
   "outputs": [],
   "source": [
    "df = df[df[\"Number of Bathrooms\"]<3]"
   ]
  },
  {
   "cell_type": "code",
   "execution_count": 27,
   "id": "65c0d626-0a66-49d1-a9fb-6fb321fb80e5",
   "metadata": {},
   "outputs": [
    {
     "name": "stdout",
     "output_type": "stream",
     "text": [
      "Processed data saved to: c:\\Users\\Dell\\OneDrive\\Desktop\\Yerevan-Flat-Price-Prediction\\Data\\processed\\processed_df.csv\n"
     ]
    }
   ],
   "source": [
    "# Get current path\n",
    "current_path = os.getcwd()\n",
    "\n",
    "# Go 2 folders back\n",
    "project_root = os.path.abspath(os.path.join(current_path, \"..\", \"..\"))\n",
    "\n",
    "# Path to processed folder\n",
    "save_path = os.path.join(project_root, \"Data\", \"processed\", \"processed_df.csv\")\n",
    "\n",
    "# Save CSV\n",
    "df.to_csv(save_path, index=False, encoding='utf-8-sig')\n",
    "print(f\"Processed data saved to: {save_path}\")"
   ]
  }
 ],
 "metadata": {
  "kernelspec": {
   "display_name": "venv (3.12.2)",
   "language": "python",
   "name": "python3"
  },
  "language_info": {
   "codemirror_mode": {
    "name": "ipython",
    "version": 3
   },
   "file_extension": ".py",
   "mimetype": "text/x-python",
   "name": "python",
   "nbconvert_exporter": "python",
   "pygments_lexer": "ipython3",
   "version": "3.12.2"
  }
 },
 "nbformat": 4,
 "nbformat_minor": 5
}
